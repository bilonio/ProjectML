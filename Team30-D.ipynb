{
 "cells": [
  {
   "cell_type": "code",
   "execution_count": 31,
   "metadata": {},
   "outputs": [],
   "source": [
    "import numpy as np\n",
    "import pandas as pd\n",
    "from sklearn.model_selection import train_test_split, GridSearchCV\n",
    "from sklearn.ensemble import RandomForestClassifier\n",
    "from sklearn.neighbors import KNeighborsClassifier\n",
    "from sklearn.metrics import accuracy_score\n",
    "from sklearn.svm import SVC\n",
    "from sklearn.naive_bayes import GaussianNB\n",
    "from sklearn.neural_network import MLPClassifier\n",
    "from sklearn.preprocessing import StandardScaler, PowerTransformer\n",
    "from sklearn.decomposition import PCA\n",
    "\n",
    "\n"
   ]
  },
  {
   "cell_type": "markdown",
   "metadata": {},
   "source": [
    "K-NN Classifier"
   ]
  },
  {
   "cell_type": "code",
   "execution_count": 32,
   "metadata": {},
   "outputs": [
    {
     "name": "stdout",
     "output_type": "stream",
     "text": [
      "{'algorithm': 'auto', 'leaf_size': 30, 'metric': 'minkowski', 'metric_params': None, 'n_jobs': None, 'n_neighbors': 5, 'p': 2, 'weights': 'uniform'}\n",
      "0.8416237850200115 KNeighborsClassifier(n_neighbors=14, p=1, weights='distance')\n"
     ]
    }
   ],
   "source": [
    "data_train = pd.read_csv('datasetTV.csv', header=None)\n",
    "data_test = pd.read_csv('datasetTest.csv', header=None)\n",
    "\n",
    "X_train = data_train.iloc[:, :-1]\n",
    "y_train = data_train.iloc[:, -1]\n",
    "\n",
    "X_train, X_test, y_train, y_test = train_test_split(X_train, y_train, test_size=0.2, random_state=42)\n",
    "KNN = KNeighborsClassifier()\n",
    "\n",
    "# Function to tune the model using GridSearchCV\n",
    "def tune_model(model, param_grid):\n",
    "    grid = GridSearchCV(model, param_grid, cv=3, n_jobs=-1) # Define the grid search\n",
    "    grid.fit(X_train, y_train) # Train the model\n",
    "    y_pred = grid.predict(X_test) # Make predictions\n",
    "    accuracy = grid.score(X_test, y_test) # Get the accuracy\n",
    "    best_model = grid.best_estimator_ # Get the best model\n",
    "    return accuracy, best_model\n",
    "\n",
    "# Define the hyperparameter grid\n",
    "\n",
    "param_grid = {'n_neighbors': [14], 'algorithm': ['auto'], 'weights': ['distance'],'p': [1]}\n",
    "accuracy, best_model = tune_model(KNN, param_grid)\n",
    "print(KNN.get_params())\n",
    "print(accuracy, best_model)\n"
   ]
  },
  {
   "cell_type": "markdown",
   "metadata": {},
   "source": [
    "Naive Bayes Classifier (Gaussian version)"
   ]
  },
  {
   "cell_type": "code",
   "execution_count": 33,
   "metadata": {},
   "outputs": [
    {
     "name": "stdout",
     "output_type": "stream",
     "text": [
      "{'priors': None, 'var_smoothing': 1e-09}\n",
      "0.6986849628359062 GaussianNB()\n"
     ]
    }
   ],
   "source": [
    "data_train = pd.read_csv('datasetTV.csv', header=None)\n",
    "data_test = pd.read_csv('datasetTest.csv', header=None)\n",
    "\n",
    "X_train = data_train.iloc[:, :-1]\n",
    "y_train = data_train.iloc[:, -1]\n",
    "\n",
    "X_train, X_test, y_train, y_test = train_test_split(X_train, y_train, test_size=0.2, random_state=42)\n",
    "GNB = GaussianNB() # Create a Gaussian Naive Bayes model\n",
    "\n",
    "# Function to tune the model using GridSearchCV\n",
    "def tune_model(model, param_grid):\n",
    "    grid = GridSearchCV(model, param_grid, cv=3, n_jobs = -1) # Define the grid search\n",
    "    grid.fit(X_train, y_train) # Train the model\n",
    "    y_pred = grid.predict(X_test) # Make predictions\n",
    "    accuracy = grid.score(X_test, y_test) # Get the accuracy\n",
    "    best_model = grid.best_estimator_ # Get the best model\n",
    "    return accuracy, best_model\n",
    "\n",
    "# Define the hyperparameter grid\n",
    "\n",
    "param_grid = {}\n",
    "accuracy, best_model = tune_model(GNB, param_grid)\n",
    "print(GNB.get_params())\n",
    "print(accuracy, best_model)"
   ]
  },
  {
   "cell_type": "markdown",
   "metadata": {},
   "source": [
    "Support Vector Classifier"
   ]
  },
  {
   "cell_type": "code",
   "execution_count": 34,
   "metadata": {},
   "outputs": [
    {
     "name": "stdout",
     "output_type": "stream",
     "text": [
      "{'C': 1.0, 'break_ties': False, 'cache_size': 200, 'class_weight': None, 'coef0': 0.0, 'decision_function_shape': 'ovr', 'degree': 3, 'gamma': 'scale', 'kernel': 'rbf', 'max_iter': -1, 'probability': False, 'random_state': None, 'shrinking': True, 'tol': 0.001, 'verbose': False}\n",
      "0.8650657518582047 SVC(C=10, class_weight='balanced', gamma=0.01, kernel='poly')\n"
     ]
    }
   ],
   "source": [
    "\n",
    "\n",
    "SVC = SVC() # Create SVC Classifier\n",
    "\n",
    "\n",
    "\n",
    "# Define the hyperparameter grid\n",
    "\n",
    "param_grid = {'C': [10], 'gamma': [0.01], 'kernel': ['poly'], 'class_weight': ['balanced']}\n",
    "accuracy, best_model = tune_model(SVC, param_grid)\n",
    "print(SVC.get_params())\n",
    "print(accuracy, best_model)\n",
    "\n",
    "# Test model in the dataset with the best model\n",
    "X_test = data_test.iloc[:, :]\n",
    "y_pred = best_model.predict(X_test)\n",
    "np.save('labelsX', y_pred)\n",
    "\n",
    "\n",
    "\n"
   ]
  }
 ],
 "metadata": {
  "kernelspec": {
   "display_name": "base",
   "language": "python",
   "name": "python3"
  },
  "language_info": {
   "codemirror_mode": {
    "name": "ipython",
    "version": 3
   },
   "file_extension": ".py",
   "mimetype": "text/x-python",
   "name": "python",
   "nbconvert_exporter": "python",
   "pygments_lexer": "ipython3",
   "version": "3.12.7"
  }
 },
 "nbformat": 4,
 "nbformat_minor": 2
}
