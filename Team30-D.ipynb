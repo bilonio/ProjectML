{
 "cells": [
  {
   "cell_type": "code",
   "execution_count": 19,
   "metadata": {},
   "outputs": [],
   "source": [
    "import numpy as np\n",
    "import pandas as pd\n",
    "from sklearn.model_selection import train_test_split, GridSearchCV\n",
    "from sklearn.ensemble import RandomForestClassifier \n",
    "from sklearn.metrics import accuracy_score\n",
    "from sklearn.svm import SVC\n",
    "\n"
   ]
  },
  {
   "cell_type": "code",
   "execution_count": 20,
   "metadata": {},
   "outputs": [
    {
     "name": "stdout",
     "output_type": "stream",
     "text": [
      "        0        1         2         3         4        5        6    \\\n",
      "0  0.312530 -0.23940 -0.007568  0.526180 -0.090250 -0.26424  1.26620   \n",
      "1 -0.180790  0.43987 -0.146410  0.589490 -0.571440  1.31360  0.47487   \n",
      "2  0.794690 -0.05394  0.002950 -0.134920  0.509670  1.02670  0.40173   \n",
      "3 -0.056284 -0.22407 -0.237710 -0.065823 -0.086943  1.00600 -0.47638   \n",
      "4  0.459540  0.34655 -0.056755  0.512780  0.221310 -0.27498  0.95194   \n",
      "\n",
      "        7        8         9    ...      215       216       217       218  \\\n",
      "0  0.057444 -0.23387 -0.428440  ... -0.54450  0.927700 -0.051764 -0.088081   \n",
      "1  0.018913  0.51212 -0.147690  ...  0.49172  0.022198  0.936230 -0.218210   \n",
      "2 -0.180840  0.44986 -0.272450  ... -0.23305  0.023855 -0.225070  0.589430   \n",
      "3  0.016027  0.16352 -0.284360  ... -0.35707  0.302740  0.081736 -0.312950   \n",
      "4  0.682520  0.46048  0.063208  ...  0.34516 -0.206390  0.026514 -0.304530   \n",
      "\n",
      "        219       220       221      222       223  224  \n",
      "0 -0.135800  1.188800  0.590240  0.13113  0.940970    1  \n",
      "1  0.063382 -0.358710 -0.039761  0.75732  0.498340    2  \n",
      "2  0.219000  0.867800  0.138840  1.08080 -0.542270    5  \n",
      "3 -0.364090 -0.043227  1.171200 -0.13544 -0.077792    2  \n",
      "4  0.307200  1.047100  0.921490  0.73302  0.670780    3  \n",
      "\n",
      "[5 rows x 225 columns]\n",
      "(8743, 224) (8743,)\n",
      "Fitting 3 folds for each of 1 candidates, totalling 3 fits\n",
      "[CV 1/3] END C=10, class_weight=balanced, gamma=0.01, kernel=poly;, score=0.872 total time=   4.4s\n",
      "[CV 2/3] END C=10, class_weight=balanced, gamma=0.01, kernel=poly;, score=0.859 total time=   4.1s\n",
      "[CV 3/3] END C=10, class_weight=balanced, gamma=0.01, kernel=poly;, score=0.861 total time=   4.1s\n",
      "{'C': 1.0, 'break_ties': False, 'cache_size': 200, 'class_weight': None, 'coef0': 0.0, 'decision_function_shape': 'ovr', 'degree': 3, 'gamma': 'scale', 'kernel': 'rbf', 'max_iter': -1, 'probability': False, 'random_state': None, 'shrinking': True, 'tol': 0.001, 'verbose': False}\n",
      "0.8650657518582047 SVC(C=10, class_weight='balanced', gamma=0.01, kernel='poly')\n",
      "[1 4 5 ... 3 5 1]\n"
     ]
    }
   ],
   "source": [
    "data_train = pd.read_csv('datasetTV.csv', header=None)\n",
    "data_test = pd.read_csv('datasetTest.csv', header=None)\n",
    "print(data_train.head())\n",
    "X_train = data_train.iloc[:, :-1]\n",
    "y_train = data_train.iloc[:, -1]\n",
    "print(X_train.shape, y_train.shape)\n",
    "X_train, X_test, y_train, y_test = train_test_split(X_train, y_train, test_size=0.2, random_state=42)\n",
    "SVC = SVC() # Create SVC Classifier\n",
    "\n",
    "# Function to tune the model using GridSearchCV\n",
    "def tune_model(model, param_grid):\n",
    "    grid = GridSearchCV(model, param_grid, cv=3, verbose=3) # Define the grid search\n",
    "    grid.fit(X_train, y_train) # Train the model\n",
    "    y_pred = grid.predict(X_test) # Make predictions\n",
    "    accuracy = grid.score(X_test, y_test) # Get the accuracy\n",
    "    best_model = grid.best_estimator_ # Get the best model\n",
    "    return accuracy, best_model\n",
    "\n",
    "# Define the hyperparameter grid\n",
    "\n",
    "param_grid = {'C': [10], 'gamma': [0.01], 'kernel': ['poly'], 'class_weight': ['balanced']}\n",
    "accuracy, best_model = tune_model(SVC, param_grid)\n",
    "print(SVC.get_params())\n",
    "print(accuracy, best_model)\n",
    "\n",
    "# Test model in the dataset with the best model\n",
    "X_test = data_test.iloc[:, :]\n",
    "y_pred = best_model.predict(X_test)\n",
    "np.save('labelsX', y_pred)\n",
    "print(y_pred)\n",
    "\n",
    "\n",
    "\n",
    "\n",
    "\n"
   ]
  }
 ],
 "metadata": {
  "kernelspec": {
   "display_name": "base",
   "language": "python",
   "name": "python3"
  },
  "language_info": {
   "codemirror_mode": {
    "name": "ipython",
    "version": 3
   },
   "file_extension": ".py",
   "mimetype": "text/x-python",
   "name": "python",
   "nbconvert_exporter": "python",
   "pygments_lexer": "ipython3",
   "version": "3.12.7"
  }
 },
 "nbformat": 4,
 "nbformat_minor": 2
}
