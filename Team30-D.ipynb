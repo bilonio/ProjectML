{
 "cells": [
  {
   "cell_type": "code",
   "execution_count": 51,
   "metadata": {},
   "outputs": [],
   "source": [
    "import numpy as np\n",
    "import pandas as pd\n",
    "from sklearn.model_selection import train_test_split, GridSearchCV\n",
    "from sklearn.ensemble import RandomForestClassifier \n",
    "from sklearn.metrics import accuracy_score\n",
    "from sklearn.svm import SVC\n",
    "from sklearn.neural_network import MLPClassifier\n"
   ]
  },
  {
   "cell_type": "code",
   "execution_count": 52,
   "metadata": {},
   "outputs": [
    {
     "name": "stdout",
     "output_type": "stream",
     "text": [
      "(8743, 224) (8743,)\n",
      "Fitting 3 folds for each of 1 candidates, totalling 3 fits\n",
      "[CV 1/3] END C=10, class_weight=balanced, gamma=0.01, kernel=poly;, score=0.872 total time=   4.9s\n",
      "[CV 2/3] END C=10, class_weight=balanced, gamma=0.01, kernel=poly;, score=0.859 total time=   4.7s\n",
      "[CV 3/3] END C=10, class_weight=balanced, gamma=0.01, kernel=poly;, score=0.861 total time=   4.4s\n",
      "{'C': 1.0, 'break_ties': False, 'cache_size': 200, 'class_weight': None, 'coef0': 0.0, 'decision_function_shape': 'ovr', 'degree': 3, 'gamma': 'scale', 'kernel': 'rbf', 'max_iter': -1, 'probability': False, 'random_state': None, 'shrinking': True, 'tol': 0.001, 'verbose': False}\n",
      "0.8650657518582047 SVC(C=10, class_weight='balanced', gamma=0.01, kernel='poly')\n"
     ]
    }
   ],
   "source": [
    "data_train = pd.read_csv('datasetTV.csv', header=None)\n",
    "data_test = pd.read_csv('datasetTest.csv', header=None)\n",
    "X_train = data_train.iloc[:, :-1]\n",
    "y_train = data_train.iloc[:, -1]\n",
    "print(X_train.shape, y_train.shape)\n",
    "X_train, X_test, y_train, y_test = train_test_split(X_train, y_train, test_size=0.2, random_state=42)\n",
    "SVC = SVC() # Create SVC Classifier\n",
    "\n",
    "# Function to tune the model using GridSearchCV\n",
    "def tune_model(model, param_grid):\n",
    "    grid = GridSearchCV(model, param_grid, cv=3, verbose=3) # Define the grid search\n",
    "    grid.fit(X_train, y_train) # Train the model\n",
    "    y_pred = grid.predict(X_test) # Make predictions\n",
    "    accuracy = grid.score(X_test, y_test) # Get the accuracy\n",
    "    best_model = grid.best_estimator_ # Get the best model\n",
    "    return accuracy, best_model\n",
    "\n",
    "# Define the hyperparameter grid\n",
    "\n",
    "param_grid = {'C': [10], 'gamma': [0.01], 'kernel': ['poly'], 'class_weight': ['balanced']}\n",
    "accuracy, best_model = tune_model(SVC, param_grid)\n",
    "print(SVC.get_params())\n",
    "print(accuracy, best_model)\n",
    "\n",
    "\n",
    "\n",
    "\n",
    "\n"
   ]
  }
 ],
 "metadata": {
  "kernelspec": {
   "display_name": "base",
   "language": "python",
   "name": "python3"
  },
  "language_info": {
   "codemirror_mode": {
    "name": "ipython",
    "version": 3
   },
   "file_extension": ".py",
   "mimetype": "text/x-python",
   "name": "python",
   "nbconvert_exporter": "python",
   "pygments_lexer": "ipython3",
   "version": "3.12.7"
  }
 },
 "nbformat": 4,
 "nbformat_minor": 2
}
