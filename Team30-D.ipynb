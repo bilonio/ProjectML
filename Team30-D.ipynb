{
 "cells": [
  {
   "cell_type": "code",
   "execution_count": 7,
   "metadata": {},
   "outputs": [],
   "source": [
    "import numpy as np\n",
    "import pandas as pd\n",
    "from sklearn.model_selection import train_test_split, GridSearchCV\n",
    "from sklearn.linear_model import LinearRegression, SGDClassifier\n",
    "from sklearn.metrics import accuracy_score\n",
    "from sklearn.ensemble import RandomForestClassifier\n"
   ]
  },
  {
   "cell_type": "code",
   "execution_count": 8,
   "metadata": {},
   "outputs": [
    {
     "name": "stdout",
     "output_type": "stream",
     "text": [
      "(8743, 224) (8743,)\n",
      "{'alpha': 0.0001, 'average': False, 'class_weight': None, 'early_stopping': False, 'epsilon': 0.1, 'eta0': 0.0, 'fit_intercept': True, 'l1_ratio': 0.15, 'learning_rate': 'optimal', 'loss': 'hinge', 'max_iter': 1000, 'n_iter_no_change': 5, 'n_jobs': None, 'penalty': 'l2', 'power_t': 0.5, 'random_state': None, 'shuffle': True, 'tol': 0.001, 'validation_fraction': 0.1, 'verbose': 0, 'warm_start': False}\n"
     ]
    },
    {
     "ename": "",
     "evalue": "",
     "output_type": "error",
     "traceback": [
      "\u001b[1;31mThe Kernel crashed while executing code in the current cell or a previous cell. \n",
      "\u001b[1;31mPlease review the code in the cell(s) to identify a possible cause of the failure. \n",
      "\u001b[1;31mClick <a href='https://aka.ms/vscodeJupyterKernelCrash'>here</a> for more info. \n",
      "\u001b[1;31mView Jupyter <a href='command:jupyter.viewOutput'>log</a> for further details."
     ]
    }
   ],
   "source": [
    "data_train = pd.read_csv('datasetTV.csv', header=None)\n",
    "data_test = pd.read_csv('datasetTest.csv', header=None)\n",
    "X_train = data_train.iloc[:, :-1]\n",
    "y_train = data_train.iloc[:, -1]\n",
    "print(X_train.shape, y_train.shape)\n",
    "X_train, X_test, y_train, y_test = train_test_split(X_train, y_train, test_size=0.2, random_state=42)\n",
    "SGD = SGDClassifier() # Create a SGDClassifier object\n",
    "print(SGD.get_params()) # Print the default parameters\n",
    "\n",
    "# Function to tune the model using GridSearchCV\n",
    "def tune_model(model, param_grid):\n",
    "    grid = GridSearchCV(model, param_grid, cv=3) # Create a GridSearchCV object\n",
    "    grid.fit(X_train, y_train) # Train the model\n",
    "    y_pred = grid.predict(X_test) # Make predictions\n",
    "    accuracy = grid.score(X_test, y_test) # Get the accuracy\n",
    "    best_model = grid.best_estimator_ # Get the best model\n",
    "    return accuracy, best_model\n",
    "\n",
    "# Define the hyperparameter grid\n",
    "param_grid = {\n",
    "'alpha': [0.0001, 0.001, 0.01, 0.1, 1, 10],\n",
    "'average': [True, False],\n",
    "'class_weight': [None, 'balanced'],\n",
    "'early_stopping': [True, False],\n",
    "'epsilon': [0.1, 0.01, 0.001],\n",
    "}\n",
    "best_accuracy, best_model = tune_model(SGD, param_grid) # Get the best model\n",
    "print(best_accuracy,best_model) # Print the best accuracy\n",
    "\n",
    "\n",
    "\n",
    "\n",
    "\n"
   ]
  }
 ],
 "metadata": {
  "kernelspec": {
   "display_name": "base",
   "language": "python",
   "name": "python3"
  },
  "language_info": {
   "codemirror_mode": {
    "name": "ipython",
    "version": 3
   },
   "file_extension": ".py",
   "mimetype": "text/x-python",
   "name": "python",
   "nbconvert_exporter": "python",
   "pygments_lexer": "ipython3",
   "version": "3.12.7"
  }
 },
 "nbformat": 4,
 "nbformat_minor": 2
}
