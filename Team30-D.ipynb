{
   "cells": [
      {
         "cell_type": "markdown",
         "metadata": {},
         "source": [
            "# ΜΕΡΟΣ Δ"
         ]
      },
      {
         "cell_type": "code",
         "execution_count": 1,
         "metadata": {},
         "outputs": [],
         "source": [
            "import numpy as np\n",
            "import pandas as pd\n",
            "from sklearn.model_selection import train_test_split, GridSearchCV\n",
            "from sklearn.linear_model import LinearRegression\n",
            "from sklearn.metrics import accuracy_score\n",
            "from sklearn.ensemble import RandomForestClassifier"
         ]
      },
      {
         "cell_type": "code",
         "execution_count": 2,
         "metadata": {},
         "outputs": [
            {
               "name": "stdout",
               "output_type": "stream",
               "text": [
                  "(8743, 224) (8743,)\n",
                  "0.6266437964551173 DecisionTreeClassifier(max_depth=7)\n"
               ]
            }
         ],
         "source": [
            "data_train = pd.read_csv('datasetTV.csv', header=None)\n",
            "data_test = pd.read_csv('datasetTest.csv', header=None)\n",
            "X_train = data_train.iloc[:, :-1]\n",
            "y_train = data_train.iloc[:, -1]\n",
            "print(X_train.shape, y_train.shape)\n",
            "X_train, X_test, y_train, y_test = train_test_split(X_train, y_train, test_size=0.2, random_state=42)\n",
            "RFC = RandomForestClassifier() # Create a RandomForestClassifier object\n",
            "\n",
            "# Function to tune the model using GridSearchCV\n",
            "def tune_model(model, param_grid):\n",
            "    grid = GridSearchCV(model, param_grid, cv=3) # Create a GridSearchCV object\n",
            "    grid.fit(X_train, y_train) # Train the model\n",
            "    y_pred = grid.predict(X_test) # Make predictions\n",
            "    accuracy = grid.score(X_test, y_test) # Get the accuracy\n",
            "    best_model = grid.best_estimator_ # Get the best model\n",
            "    return accuracy, best_model\n",
            "\n",
            "# Define the hyperparameter grid\n",
            "param_grid = {\n",
            "'max_depth': np.arange(1, 10),\n",
            "}\n",
            "best_accuracy, best_model = tune_model(RFC, param_grid) # Get the best model\n",
            "print(best_accuracy,best_model) # Print the best accuracy\n",
            "\n",
            "features = np.array(data_train)[:,:-1]\n",
            "labels = np.array(data_train)[:,-1]\n",
            "\n",
            "X_train, X_test, y_train, y_test = train_test_split(features, labels, test_size=0.2, random_state=42)\n",
            "\n",
            "MLP = MLPClassifier(random_state=1)\n",
            "\n",
            "param_grid = {\n",
            "    'hidden_layer_sizes': [(10000,7000,1000,200), (10000, 5000, 500),(5000,500)],\n",
            "    'activation': ['relu', 'tanh', 'sigmoid'],\n",
            "    'solver': ['sgd', 'adam', 'rmsprop'],\n",
            "    'alpha': [1e-5, 1e-4, 1e-3, 1e-2],\n",
            "    'learning_rate_init': [0.001, 0.01, 0.1]}\n",
            "best_accuracy, best_model = tune_model(MLP, param_grid)\n",
            "\n",
            "print(best_accuracy, best_model)\n",
            "\n"
         ]
      },
      {
         "cell_type": "code",
         "execution_count": 21,
         "metadata": {},
         "outputs": [
            {
               "name": "stdout",
               "output_type": "stream",
               "text": [
                  "1e-05\n"
               ]
            }
         ],
         "source": [
            "print(float(1e-5))"
         ]
      }
   ],
   "metadata": {
      "kernelspec": {
         "display_name": "base",
         "language": "python",
         "name": "python3"
      },
      "language_info": {
         "codemirror_mode": {
            "name": "ipython",
            "version": 3
         },
         "file_extension": ".py",
         "mimetype": "text/x-python",
         "name": "python",
         "nbconvert_exporter": "python",
         "pygments_lexer": "ipython3",
         "version": "3.12.7"
      }
   },
   "nbformat": 4,
   "nbformat_minor": 2
}