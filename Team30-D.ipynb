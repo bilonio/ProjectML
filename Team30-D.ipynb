{
<<<<<<< HEAD
   "cells": [
      {
         "cell_type": "markdown",
         "metadata": {},
         "source": [
            "# ΜΕΡΟΣ Δ"
         ]
      },
      {
         "cell_type": "code",
         "execution_count": 1,
         "metadata": {},
         "outputs": [],
         "source": [
            "import numpy as np\n",
            "import pandas as pd\n",
            "from sklearn.model_selection import train_test_split, GridSearchCV\n",
            "from sklearn.linear_model import LinearRegression\n",
            "from sklearn.metrics import accuracy_score\n",
            "from sklearn.ensemble import RandomForestClassifier"
         ]
      },
      {
         "cell_type": "code",
         "execution_count": 2,
         "metadata": {},
         "outputs": [
            {
               "name": "stdout",
               "output_type": "stream",
               "text": [
                  "(8743, 224) (8743,)\n"
               ]
            },
            {
               "name": "stderr",
               "output_type": "stream",
               "text": [
                  "/Users/vasilis/anaconda3/lib/python3.12/site-packages/numpy/ma/core.py:2820: RuntimeWarning: invalid value encountered in cast\n",
                  "  _data = np.array(data, dtype=dtype, copy=copy,\n"
               ]
            },
            {
               "name": "stdout",
               "output_type": "stream",
               "text": [
                  "0.7953116066323613 RandomForestClassifier(max_depth=9)\n"
               ]
            }
         ],
         "source": [
            "data_train = pd.read_csv('datasetTV.csv', header=None)\n",
            "data_test = pd.read_csv('datasetTest.csv', header=None)\n",
            "X_train = data_train.iloc[:, :-1]\n",
            "y_train = data_train.iloc[:, -1]\n",
            "print(X_train.shape, y_train.shape)\n",
            "X_train, X_test, y_train, y_test = train_test_split(X_train, y_train, test_size=0.2, random_state=42)\n",
            "RFC = RandomForestClassifier() # Create a RandomForestClassifier object\n",
            "\n",
            "# Function to tune the model using GridSearchCV\n",
            "def tune_model(model, param_grid):\n",
            "    grid = GridSearchCV(model, param_grid, cv=3) # Create a GridSearchCV object\n",
            "    grid.fit(X_train, y_train) # Train the model\n",
            "    y_pred = grid.predict(X_test) # Make predictions\n",
            "    accuracy = grid.score(X_test, y_test) # Get the accuracy\n",
            "    best_model = grid.best_estimator_ # Get the best model\n",
            "    return accuracy, best_model\n",
            "\n",
            "# Define the hyperparameter grid\n",
            "param_grid = {\n",
            "'max_depth': np.arange(1, 10),\n",
            "}\n",
            "best_accuracy, best_model = tune_model(RFC, param_grid) # Get the best model\n",
            "print(best_accuracy,best_model) # Print the best accuracy\n",
            "\n",
            "\n",
            "\n",
            "\n",
            "\n",
            "\n"
         ]
      }
   ],
   "metadata": {
      "kernelspec": {
         "display_name": "base",
         "language": "python",
         "name": "python3"
      },
      "language_info": {
         "codemirror_mode": {
            "name": "ipython",
            "version": 3
         },
         "file_extension": ".py",
         "mimetype": "text/x-python",
         "name": "python",
         "nbconvert_exporter": "python",
         "pygments_lexer": "ipython3",
         "version": "3.12.7"
      }
=======
 "cells": [
  {
   "cell_type": "markdown",
   "metadata": {},
   "source": [
    "# ΜΕΡΟΣ Δ"
   ]
  },
  {
   "cell_type": "code",
   "execution_count": 8,
   "metadata": {},
   "outputs": [],
   "source": [
    "import numpy as np\n",
    "import pandas as pd\n",
    "from sklearn.neural_network import MLPClassifier\n",
    "from sklearn.model_selection import train_test_split, GridSearchCV\n",
    "from sklearn.metrics import accuracy_score"
   ]
  },
  {
   "cell_type": "code",
   "execution_count": 9,
   "metadata": {},
   "outputs": [],
   "source": [
    "# Function to tune the model using GridSearchCV\n",
    "def tune_model(model, param_grid, X_train, X_test, y_train, y_test):\n",
    "    grid = GridSearchCV(model, param_grid, cv=3, n_jobs=-1, verbose=3) # Create a GridSearchCV object\n",
    "    grid.fit(X_train, y_train) # Train the model\n",
    "    y_pred = grid.predict(X_test) # Make predictions\n",
    "    accuracy = accuracy_score(y_test, y_pred) # Calculate accuracy\n",
    "    best_model = grid.best_estimator_ # Get the best model\n",
    "    return accuracy, best_model"
   ]
  },
  {
   "cell_type": "code",
   "execution_count": 10,
   "metadata": {},
   "outputs": [
    {
     "name": "stdout",
     "output_type": "stream",
     "text": [
      "Fitting 3 folds for each of 20 candidates, totalling 60 fits\n",
      "[CV 1/3] END alpha=1e-06, hidden_layer_sizes=(400, 30);, score=0.838 total time=  25.9s\n",
      "[CV 2/3] END alpha=1e-06, hidden_layer_sizes=(400, 30);, score=0.830 total time=  26.2s\n",
      "[CV 3/3] END alpha=1e-06, hidden_layer_sizes=(400, 30);, score=0.834 total time=  27.2s\n",
      "[CV 1/3] END alpha=1.0526324736842105, hidden_layer_sizes=(400, 30);, score=0.853 total time=  51.0s\n",
      "[CV 2/3] END alpha=1.5789482105263157, hidden_layer_sizes=(400, 30);, score=0.846 total time=  54.6s\n",
      "[CV 3/3] END alpha=1.5789482105263157, hidden_layer_sizes=(400, 30);, score=0.839 total time=  56.7s\n",
      "[CV 3/3] END alpha=1.0526324736842105, hidden_layer_sizes=(400, 30);, score=0.843 total time=  58.7s\n",
      "[CV 1/3] END alpha=0.5263167368421053, hidden_layer_sizes=(400, 30);, score=0.857 total time= 1.0min\n",
      "[CV 2/3] END alpha=1.0526324736842105, hidden_layer_sizes=(400, 30);, score=0.844 total time= 1.0min\n",
      "[CV 2/3] END alpha=0.5263167368421053, hidden_layer_sizes=(400, 30);, score=0.848 total time= 1.1min\n",
      "[CV 3/3] END alpha=0.5263167368421053, hidden_layer_sizes=(400, 30);, score=0.857 total time= 1.1min\n",
      "[CV 1/3] END alpha=1.5789482105263157, hidden_layer_sizes=(400, 30);, score=0.846 total time= 1.1min\n",
      "[CV 2/3] END alpha=2.1052639473684214, hidden_layer_sizes=(400, 30);, score=0.853 total time=  51.1s\n",
      "[CV 1/3] END alpha=2.1052639473684214, hidden_layer_sizes=(400, 30);, score=0.853 total time= 1.1min\n",
      "[CV 3/3] END alpha=2.1052639473684214, hidden_layer_sizes=(400, 30);, score=0.839 total time= 1.1min\n",
      "[CV 1/3] END alpha=3.1578954210526318, hidden_layer_sizes=(400, 30);, score=0.845 total time=  55.1s\n",
      "[CV 1/3] END alpha=3.684211157894737, hidden_layer_sizes=(400, 30);, score=0.829 total time=  50.9s\n",
      "[CV 3/3] END alpha=3.684211157894737, hidden_layer_sizes=(400, 30);, score=0.834 total time=  51.3s\n",
      "[CV 1/3] END alpha=2.631579684210527, hidden_layer_sizes=(400, 30);, score=0.849 total time= 1.1min\n",
      "[CV 1/3] END alpha=4.210526894736843, hidden_layer_sizes=(400, 30);, score=0.821 total time=  44.8s\n",
      "[CV 3/3] END alpha=2.631579684210527, hidden_layer_sizes=(400, 30);, score=0.839 total time= 1.1min\n",
      "[CV 2/3] END alpha=4.210526894736843, hidden_layer_sizes=(400, 30);, score=0.831 total time=  44.0s\n",
      "[CV 3/3] END alpha=4.210526894736843, hidden_layer_sizes=(400, 30);, score=0.831 total time=  48.2s\n",
      "[CV 2/3] END alpha=2.631579684210527, hidden_layer_sizes=(400, 30);, score=0.851 total time= 1.4min\n",
      "[CV 3/3] END alpha=3.1578954210526318, hidden_layer_sizes=(400, 30);, score=0.829 total time= 1.3min\n",
      "[CV 2/3] END alpha=3.1578954210526318, hidden_layer_sizes=(400, 30);, score=0.849 total time= 1.4min\n",
      "[CV 2/3] END alpha=3.684211157894737, hidden_layer_sizes=(400, 30);, score=0.839 total time= 1.4min\n",
      "[CV 2/3] END alpha=4.736842631578948, hidden_layer_sizes=(400, 30);, score=0.825 total time=  40.0s\n",
      "[CV 2/3] END alpha=5.2631583684210534, hidden_layer_sizes=(400, 30);, score=0.819 total time=  41.2s\n",
      "[CV 1/3] END alpha=4.736842631578948, hidden_layer_sizes=(400, 30);, score=0.819 total time=  50.3s\n",
      "[CV 3/3] END alpha=5.2631583684210534, hidden_layer_sizes=(400, 30);, score=0.811 total time=  49.3s\n",
      "[CV 3/3] END alpha=4.736842631578948, hidden_layer_sizes=(400, 30);, score=0.820 total time=  53.8s\n",
      "[CV 1/3] END alpha=5.2631583684210534, hidden_layer_sizes=(400, 30);, score=0.815 total time=  56.5s\n",
      "[CV 2/3] END alpha=5.789474105263158, hidden_layer_sizes=(400, 30);, score=0.815 total time=  43.8s\n",
      "[CV 1/3] END alpha=5.789474105263158, hidden_layer_sizes=(400, 30);, score=0.813 total time=  48.9s\n",
      "[CV 3/3] END alpha=5.789474105263158, hidden_layer_sizes=(400, 30);, score=0.803 total time=  51.9s\n",
      "[CV 1/3] END alpha=6.315789842105263, hidden_layer_sizes=(400, 30);, score=0.808 total time=  57.3s\n",
      "[CV 3/3] END alpha=6.315789842105263, hidden_layer_sizes=(400, 30);, score=0.795 total time=  53.3s\n",
      "[CV 1/3] END alpha=6.842105578947369, hidden_layer_sizes=(400, 30);, score=0.801 total time=  53.9s\n",
      "[CV 2/3] END alpha=6.842105578947369, hidden_layer_sizes=(400, 30);, score=0.804 total time=  50.1s\n",
      "[CV 2/3] END alpha=6.315789842105263, hidden_layer_sizes=(400, 30);, score=0.804 total time= 1.2min\n",
      "[CV 3/3] END alpha=6.842105578947369, hidden_layer_sizes=(400, 30);, score=0.788 total time=  56.9s\n",
      "[CV 1/3] END alpha=7.368421315789474, hidden_layer_sizes=(400, 30);, score=0.795 total time=  53.2s\n",
      "[CV 1/3] END alpha=7.89473705263158, hidden_layer_sizes=(400, 30);, score=0.792 total time=  49.4s\n",
      "[CV 2/3] END alpha=7.368421315789474, hidden_layer_sizes=(400, 30);, score=0.797 total time= 1.2min\n",
      "[CV 3/3] END alpha=7.368421315789474, hidden_layer_sizes=(400, 30);, score=0.783 total time= 1.1min\n",
      "[CV 3/3] END alpha=7.89473705263158, hidden_layer_sizes=(400, 30);, score=0.781 total time=  55.0s\n",
      "[CV 1/3] END alpha=8.421052789473684, hidden_layer_sizes=(400, 30);, score=0.787 total time=  52.1s\n",
      "[CV 3/3] END alpha=8.421052789473684, hidden_layer_sizes=(400, 30);, score=0.768 total time=  45.1s\n",
      "[CV 2/3] END alpha=7.89473705263158, hidden_layer_sizes=(400, 30);, score=0.787 total time= 1.2min\n",
      "[CV 1/3] END alpha=8.94736852631579, hidden_layer_sizes=(400, 30);, score=0.781 total time=  50.6s\n",
      "[CV 3/3] END alpha=8.94736852631579, hidden_layer_sizes=(400, 30);, score=0.763 total time=  44.1s\n",
      "[CV 2/3] END alpha=9.473684263157894, hidden_layer_sizes=(400, 30);, score=0.778 total time=  38.4s\n",
      "[CV 2/3] END alpha=8.421052789473684, hidden_layer_sizes=(400, 30);, score=0.786 total time= 1.1min\n",
      "[CV 2/3] END alpha=8.94736852631579, hidden_layer_sizes=(400, 30);, score=0.787 total time= 1.0min\n",
      "[CV 1/3] END alpha=9.473684263157894, hidden_layer_sizes=(400, 30);, score=0.781 total time=  49.5s\n",
      "[CV 2/3] END alpha=10.0, hidden_layer_sizes=(400, 30);, score=0.771 total time=  32.4s\n",
      "[CV 3/3] END alpha=9.473684263157894, hidden_layer_sizes=(400, 30);, score=0.771 total time=  37.0s\n",
      "[CV 3/3] END alpha=10.0, hidden_layer_sizes=(400, 30);, score=0.767 total time=  28.5s\n",
      "[CV 1/3] END alpha=10.0, hidden_layer_sizes=(400, 30);, score=0.774 total time=  36.2s\n",
      "0.8604917095483133 MLPClassifier(alpha=np.float64(0.5263167368421053),\n",
      "              hidden_layer_sizes=(400, 30), random_state=1)\n"
     ]
    }
   ],
   "source": [
    "data_train = pd.read_csv('datasetTV.csv', header=None)\n",
    "data_test = pd.read_csv('datasetTest.csv', header=None)\n",
    "\n",
    "features = np.array(data_train)[:,:-1]\n",
    "labels = np.array(data_train)[:,-1]\n",
    "\n",
    "X_train, X_test, y_train, y_test = train_test_split(features, labels, test_size=0.2, random_state=42)\n",
    "\n",
    "MLP = MLPClassifier(random_state=1)\n",
    "\n",
    "param_grid = {\n",
    "    'hidden_layer_sizes': [(400,30)],\n",
    "    'alpha': np.linspace(0.000001,10,20)\n",
    "    }\n",
    "best_accuracy, best_model = tune_model(MLP, param_grid, X_train, X_test, y_train, y_test)\n",
    "\n",
    "print(best_accuracy, best_model)\n",
    "\n"
   ]
  }
 ],
 "metadata": {
  "kernelspec": {
   "display_name": "Python 3",
   "language": "python",
   "name": "python3"
  },
  "language_info": {
   "codemirror_mode": {
    "name": "ipython",
    "version": 3
>>>>>>> filippos
   },
   "nbformat": 4,
   "nbformat_minor": 2
}
